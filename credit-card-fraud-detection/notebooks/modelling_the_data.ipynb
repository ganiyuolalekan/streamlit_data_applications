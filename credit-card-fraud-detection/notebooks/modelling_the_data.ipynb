{
 "cells": [
  {
   "cell_type": "markdown",
   "id": "7ffe779a-06f4-4601-aa2c-bd8d23d33203",
   "metadata": {},
   "source": [
    "# Modelling the data\n",
    "\n",
    "In this notebook, we'll focus on modelling the [credit card fraud detection dataset](../data/creaditcard.csv) as well as serializing the model.\n",
    "\n",
    "This notebook builds from our analysis from our notebook 📓 on [understanding the dataset](Understanding%20the%20dataset.ipynb), our primary focus here would be modelling the imbalance dataset."
   ]
  },
  {
   "cell_type": "code",
   "execution_count": 1,
   "id": "ee70392a-dcd3-489d-82c6-f6217ec44263",
   "metadata": {},
   "outputs": [],
   "source": [
    "# Data Manipulation Tools\n",
    "import numpy as np\n",
    "import pandas as pd\n",
    "\n",
    "# Data Modelling tools\n",
    "from imblearn.over_sampling import SMOTE\n",
    "\n",
    "from sklearn.model_selection import train_test_split"
   ]
  },
  {
   "cell_type": "code",
   "execution_count": 2,
   "id": "a1d08e53-29b5-4db3-ad0b-21a06e1191f3",
   "metadata": {},
   "outputs": [
    {
     "data": {
      "text/html": [
       "<div>\n",
       "<style scoped>\n",
       "    .dataframe tbody tr th:only-of-type {\n",
       "        vertical-align: middle;\n",
       "    }\n",
       "\n",
       "    .dataframe tbody tr th {\n",
       "        vertical-align: top;\n",
       "    }\n",
       "\n",
       "    .dataframe thead th {\n",
       "        text-align: right;\n",
       "    }\n",
       "</style>\n",
       "<table border=\"1\" class=\"dataframe\">\n",
       "  <thead>\n",
       "    <tr style=\"text-align: right;\">\n",
       "      <th></th>\n",
       "      <th>Time</th>\n",
       "      <th>V1</th>\n",
       "      <th>V2</th>\n",
       "      <th>V3</th>\n",
       "      <th>V4</th>\n",
       "      <th>V5</th>\n",
       "      <th>V6</th>\n",
       "      <th>V7</th>\n",
       "      <th>V8</th>\n",
       "      <th>V9</th>\n",
       "      <th>...</th>\n",
       "      <th>V21</th>\n",
       "      <th>V22</th>\n",
       "      <th>V23</th>\n",
       "      <th>V24</th>\n",
       "      <th>V25</th>\n",
       "      <th>V26</th>\n",
       "      <th>V27</th>\n",
       "      <th>V28</th>\n",
       "      <th>Amount</th>\n",
       "      <th>Class</th>\n",
       "    </tr>\n",
       "  </thead>\n",
       "  <tbody>\n",
       "    <tr>\n",
       "      <th>0</th>\n",
       "      <td>0.0</td>\n",
       "      <td>-1.359807</td>\n",
       "      <td>-0.072781</td>\n",
       "      <td>2.536347</td>\n",
       "      <td>1.378155</td>\n",
       "      <td>-0.338321</td>\n",
       "      <td>0.462388</td>\n",
       "      <td>0.239599</td>\n",
       "      <td>0.098698</td>\n",
       "      <td>0.363787</td>\n",
       "      <td>...</td>\n",
       "      <td>-0.018307</td>\n",
       "      <td>0.277838</td>\n",
       "      <td>-0.110474</td>\n",
       "      <td>0.066928</td>\n",
       "      <td>0.128539</td>\n",
       "      <td>-0.189115</td>\n",
       "      <td>0.133558</td>\n",
       "      <td>-0.021053</td>\n",
       "      <td>149.62</td>\n",
       "      <td>0</td>\n",
       "    </tr>\n",
       "    <tr>\n",
       "      <th>1</th>\n",
       "      <td>0.0</td>\n",
       "      <td>1.191857</td>\n",
       "      <td>0.266151</td>\n",
       "      <td>0.166480</td>\n",
       "      <td>0.448154</td>\n",
       "      <td>0.060018</td>\n",
       "      <td>-0.082361</td>\n",
       "      <td>-0.078803</td>\n",
       "      <td>0.085102</td>\n",
       "      <td>-0.255425</td>\n",
       "      <td>...</td>\n",
       "      <td>-0.225775</td>\n",
       "      <td>-0.638672</td>\n",
       "      <td>0.101288</td>\n",
       "      <td>-0.339846</td>\n",
       "      <td>0.167170</td>\n",
       "      <td>0.125895</td>\n",
       "      <td>-0.008983</td>\n",
       "      <td>0.014724</td>\n",
       "      <td>2.69</td>\n",
       "      <td>0</td>\n",
       "    </tr>\n",
       "    <tr>\n",
       "      <th>2</th>\n",
       "      <td>1.0</td>\n",
       "      <td>-1.358354</td>\n",
       "      <td>-1.340163</td>\n",
       "      <td>1.773209</td>\n",
       "      <td>0.379780</td>\n",
       "      <td>-0.503198</td>\n",
       "      <td>1.800499</td>\n",
       "      <td>0.791461</td>\n",
       "      <td>0.247676</td>\n",
       "      <td>-1.514654</td>\n",
       "      <td>...</td>\n",
       "      <td>0.247998</td>\n",
       "      <td>0.771679</td>\n",
       "      <td>0.909412</td>\n",
       "      <td>-0.689281</td>\n",
       "      <td>-0.327642</td>\n",
       "      <td>-0.139097</td>\n",
       "      <td>-0.055353</td>\n",
       "      <td>-0.059752</td>\n",
       "      <td>378.66</td>\n",
       "      <td>0</td>\n",
       "    </tr>\n",
       "    <tr>\n",
       "      <th>3</th>\n",
       "      <td>1.0</td>\n",
       "      <td>-0.966272</td>\n",
       "      <td>-0.185226</td>\n",
       "      <td>1.792993</td>\n",
       "      <td>-0.863291</td>\n",
       "      <td>-0.010309</td>\n",
       "      <td>1.247203</td>\n",
       "      <td>0.237609</td>\n",
       "      <td>0.377436</td>\n",
       "      <td>-1.387024</td>\n",
       "      <td>...</td>\n",
       "      <td>-0.108300</td>\n",
       "      <td>0.005274</td>\n",
       "      <td>-0.190321</td>\n",
       "      <td>-1.175575</td>\n",
       "      <td>0.647376</td>\n",
       "      <td>-0.221929</td>\n",
       "      <td>0.062723</td>\n",
       "      <td>0.061458</td>\n",
       "      <td>123.50</td>\n",
       "      <td>0</td>\n",
       "    </tr>\n",
       "    <tr>\n",
       "      <th>4</th>\n",
       "      <td>2.0</td>\n",
       "      <td>-1.158233</td>\n",
       "      <td>0.877737</td>\n",
       "      <td>1.548718</td>\n",
       "      <td>0.403034</td>\n",
       "      <td>-0.407193</td>\n",
       "      <td>0.095921</td>\n",
       "      <td>0.592941</td>\n",
       "      <td>-0.270533</td>\n",
       "      <td>0.817739</td>\n",
       "      <td>...</td>\n",
       "      <td>-0.009431</td>\n",
       "      <td>0.798278</td>\n",
       "      <td>-0.137458</td>\n",
       "      <td>0.141267</td>\n",
       "      <td>-0.206010</td>\n",
       "      <td>0.502292</td>\n",
       "      <td>0.219422</td>\n",
       "      <td>0.215153</td>\n",
       "      <td>69.99</td>\n",
       "      <td>0</td>\n",
       "    </tr>\n",
       "  </tbody>\n",
       "</table>\n",
       "<p>5 rows × 31 columns</p>\n",
       "</div>"
      ],
      "text/plain": [
       "   Time        V1        V2        V3        V4        V5        V6        V7  \\\n",
       "0   0.0 -1.359807 -0.072781  2.536347  1.378155 -0.338321  0.462388  0.239599   \n",
       "1   0.0  1.191857  0.266151  0.166480  0.448154  0.060018 -0.082361 -0.078803   \n",
       "2   1.0 -1.358354 -1.340163  1.773209  0.379780 -0.503198  1.800499  0.791461   \n",
       "3   1.0 -0.966272 -0.185226  1.792993 -0.863291 -0.010309  1.247203  0.237609   \n",
       "4   2.0 -1.158233  0.877737  1.548718  0.403034 -0.407193  0.095921  0.592941   \n",
       "\n",
       "         V8        V9  ...       V21       V22       V23       V24       V25  \\\n",
       "0  0.098698  0.363787  ... -0.018307  0.277838 -0.110474  0.066928  0.128539   \n",
       "1  0.085102 -0.255425  ... -0.225775 -0.638672  0.101288 -0.339846  0.167170   \n",
       "2  0.247676 -1.514654  ...  0.247998  0.771679  0.909412 -0.689281 -0.327642   \n",
       "3  0.377436 -1.387024  ... -0.108300  0.005274 -0.190321 -1.175575  0.647376   \n",
       "4 -0.270533  0.817739  ... -0.009431  0.798278 -0.137458  0.141267 -0.206010   \n",
       "\n",
       "        V26       V27       V28  Amount  Class  \n",
       "0 -0.189115  0.133558 -0.021053  149.62      0  \n",
       "1  0.125895 -0.008983  0.014724    2.69      0  \n",
       "2 -0.139097 -0.055353 -0.059752  378.66      0  \n",
       "3 -0.221929  0.062723  0.061458  123.50      0  \n",
       "4  0.502292  0.219422  0.215153   69.99      0  \n",
       "\n",
       "[5 rows x 31 columns]"
      ]
     },
     "execution_count": 2,
     "metadata": {},
     "output_type": "execute_result"
    }
   ],
   "source": [
    "data_path = \"../data/creditcard.csv\"\n",
    "\n",
    "credit_card_data = pd.read_csv(data_path)\n",
    "credit_card_data.head()"
   ]
  },
  {
   "cell_type": "markdown",
   "id": "62c2d2a3-3de4-43eb-ac28-4a05cb1c64d1",
   "metadata": {},
   "source": [
    "### Adding Implementation Criteria \n",
    "\n",
    "For implementation sake, we'll be preprocessing the feature columns to range from the values 0-1 using the sklearn MinMax Scalar"
   ]
  },
  {
   "cell_type": "code",
   "execution_count": 3,
   "id": "a22c6609-e2b5-451e-8be5-a9d655049faf",
   "metadata": {},
   "outputs": [],
   "source": [
    "from sklearn.preprocessing import MinMaxScaler"
   ]
  },
  {
   "cell_type": "code",
   "execution_count": 4,
   "id": "64205653-c635-4b76-a478-bd6ecb615330",
   "metadata": {},
   "outputs": [],
   "source": [
    "pca_features = list(credit_card_data.iloc[:, 1:-2].columns)\n",
    "\n",
    "credit_card_data[pca_features] = MinMaxScaler().fit_transform(credit_card_data[pca_features])"
   ]
  },
  {
   "cell_type": "code",
   "execution_count": 5,
   "id": "04b5ab7c-7340-422a-8120-99acc8bd9737",
   "metadata": {},
   "outputs": [
    {
     "data": {
      "text/html": [
       "<div>\n",
       "<style scoped>\n",
       "    .dataframe tbody tr th:only-of-type {\n",
       "        vertical-align: middle;\n",
       "    }\n",
       "\n",
       "    .dataframe tbody tr th {\n",
       "        vertical-align: top;\n",
       "    }\n",
       "\n",
       "    .dataframe thead th {\n",
       "        text-align: right;\n",
       "    }\n",
       "</style>\n",
       "<table border=\"1\" class=\"dataframe\">\n",
       "  <thead>\n",
       "    <tr style=\"text-align: right;\">\n",
       "      <th></th>\n",
       "      <th>Time</th>\n",
       "      <th>V1</th>\n",
       "      <th>V2</th>\n",
       "      <th>V3</th>\n",
       "      <th>V4</th>\n",
       "      <th>V5</th>\n",
       "      <th>V6</th>\n",
       "      <th>V7</th>\n",
       "      <th>V8</th>\n",
       "      <th>V9</th>\n",
       "      <th>...</th>\n",
       "      <th>V21</th>\n",
       "      <th>V22</th>\n",
       "      <th>V23</th>\n",
       "      <th>V24</th>\n",
       "      <th>V25</th>\n",
       "      <th>V26</th>\n",
       "      <th>V27</th>\n",
       "      <th>V28</th>\n",
       "      <th>Amount</th>\n",
       "      <th>Class</th>\n",
       "    </tr>\n",
       "  </thead>\n",
       "  <tbody>\n",
       "    <tr>\n",
       "      <th>count</th>\n",
       "      <td>284807.000000</td>\n",
       "      <td>284807.000000</td>\n",
       "      <td>284807.000000</td>\n",
       "      <td>284807.000000</td>\n",
       "      <td>284807.000000</td>\n",
       "      <td>284807.000000</td>\n",
       "      <td>284807.000000</td>\n",
       "      <td>284807.000000</td>\n",
       "      <td>284807.000000</td>\n",
       "      <td>284807.000000</td>\n",
       "      <td>...</td>\n",
       "      <td>284807.000000</td>\n",
       "      <td>284807.000000</td>\n",
       "      <td>284807.000000</td>\n",
       "      <td>284807.000000</td>\n",
       "      <td>284807.000000</td>\n",
       "      <td>284807.000000</td>\n",
       "      <td>284807.000000</td>\n",
       "      <td>284807.000000</td>\n",
       "      <td>284807.000000</td>\n",
       "      <td>284807.000000</td>\n",
       "    </tr>\n",
       "    <tr>\n",
       "      <th>mean</th>\n",
       "      <td>94813.859575</td>\n",
       "      <td>0.958294</td>\n",
       "      <td>0.767258</td>\n",
       "      <td>0.837414</td>\n",
       "      <td>0.251930</td>\n",
       "      <td>0.765716</td>\n",
       "      <td>0.263020</td>\n",
       "      <td>0.265356</td>\n",
       "      <td>0.785385</td>\n",
       "      <td>0.462780</td>\n",
       "      <td>...</td>\n",
       "      <td>0.561480</td>\n",
       "      <td>0.510031</td>\n",
       "      <td>0.665434</td>\n",
       "      <td>0.382234</td>\n",
       "      <td>0.577907</td>\n",
       "      <td>0.425448</td>\n",
       "      <td>0.416511</td>\n",
       "      <td>0.313124</td>\n",
       "      <td>88.349619</td>\n",
       "      <td>0.001727</td>\n",
       "    </tr>\n",
       "    <tr>\n",
       "      <th>std</th>\n",
       "      <td>47488.145955</td>\n",
       "      <td>0.033276</td>\n",
       "      <td>0.017424</td>\n",
       "      <td>0.026275</td>\n",
       "      <td>0.062764</td>\n",
       "      <td>0.009292</td>\n",
       "      <td>0.013395</td>\n",
       "      <td>0.007537</td>\n",
       "      <td>0.012812</td>\n",
       "      <td>0.037846</td>\n",
       "      <td>...</td>\n",
       "      <td>0.011841</td>\n",
       "      <td>0.033854</td>\n",
       "      <td>0.009274</td>\n",
       "      <td>0.081611</td>\n",
       "      <td>0.029261</td>\n",
       "      <td>0.078771</td>\n",
       "      <td>0.007450</td>\n",
       "      <td>0.006698</td>\n",
       "      <td>250.120109</td>\n",
       "      <td>0.041527</td>\n",
       "    </tr>\n",
       "    <tr>\n",
       "      <th>min</th>\n",
       "      <td>0.000000</td>\n",
       "      <td>0.000000</td>\n",
       "      <td>0.000000</td>\n",
       "      <td>0.000000</td>\n",
       "      <td>0.000000</td>\n",
       "      <td>0.000000</td>\n",
       "      <td>0.000000</td>\n",
       "      <td>0.000000</td>\n",
       "      <td>0.000000</td>\n",
       "      <td>0.000000</td>\n",
       "      <td>...</td>\n",
       "      <td>0.000000</td>\n",
       "      <td>0.000000</td>\n",
       "      <td>0.000000</td>\n",
       "      <td>0.000000</td>\n",
       "      <td>0.000000</td>\n",
       "      <td>0.000000</td>\n",
       "      <td>0.000000</td>\n",
       "      <td>0.000000</td>\n",
       "      <td>0.000000</td>\n",
       "      <td>0.000000</td>\n",
       "    </tr>\n",
       "    <tr>\n",
       "      <th>25%</th>\n",
       "      <td>54201.500000</td>\n",
       "      <td>0.942658</td>\n",
       "      <td>0.760943</td>\n",
       "      <td>0.821985</td>\n",
       "      <td>0.214311</td>\n",
       "      <td>0.761060</td>\n",
       "      <td>0.255295</td>\n",
       "      <td>0.261980</td>\n",
       "      <td>0.783148</td>\n",
       "      <td>0.440626</td>\n",
       "      <td>...</td>\n",
       "      <td>0.557798</td>\n",
       "      <td>0.484730</td>\n",
       "      <td>0.663030</td>\n",
       "      <td>0.334454</td>\n",
       "      <td>0.560104</td>\n",
       "      <td>0.372036</td>\n",
       "      <td>0.415203</td>\n",
       "      <td>0.312049</td>\n",
       "      <td>5.600000</td>\n",
       "      <td>0.000000</td>\n",
       "    </tr>\n",
       "    <tr>\n",
       "      <th>50%</th>\n",
       "      <td>84692.000000</td>\n",
       "      <td>0.958601</td>\n",
       "      <td>0.767949</td>\n",
       "      <td>0.840530</td>\n",
       "      <td>0.251050</td>\n",
       "      <td>0.765351</td>\n",
       "      <td>0.260263</td>\n",
       "      <td>0.265600</td>\n",
       "      <td>0.785625</td>\n",
       "      <td>0.461008</td>\n",
       "      <td>...</td>\n",
       "      <td>0.561005</td>\n",
       "      <td>0.510347</td>\n",
       "      <td>0.665267</td>\n",
       "      <td>0.387756</td>\n",
       "      <td>0.578838</td>\n",
       "      <td>0.416932</td>\n",
       "      <td>0.416536</td>\n",
       "      <td>0.313352</td>\n",
       "      <td>22.000000</td>\n",
       "      <td>0.000000</td>\n",
       "    </tr>\n",
       "    <tr>\n",
       "      <th>75%</th>\n",
       "      <td>139320.500000</td>\n",
       "      <td>0.980645</td>\n",
       "      <td>0.775739</td>\n",
       "      <td>0.855213</td>\n",
       "      <td>0.284882</td>\n",
       "      <td>0.769836</td>\n",
       "      <td>0.267027</td>\n",
       "      <td>0.268831</td>\n",
       "      <td>0.788897</td>\n",
       "      <td>0.483350</td>\n",
       "      <td>...</td>\n",
       "      <td>0.564484</td>\n",
       "      <td>0.534688</td>\n",
       "      <td>0.667626</td>\n",
       "      <td>0.441460</td>\n",
       "      <td>0.597593</td>\n",
       "      <td>0.464807</td>\n",
       "      <td>0.418191</td>\n",
       "      <td>0.314712</td>\n",
       "      <td>77.165000</td>\n",
       "      <td>0.000000</td>\n",
       "    </tr>\n",
       "    <tr>\n",
       "      <th>max</th>\n",
       "      <td>172792.000000</td>\n",
       "      <td>1.000000</td>\n",
       "      <td>1.000000</td>\n",
       "      <td>1.000000</td>\n",
       "      <td>1.000000</td>\n",
       "      <td>1.000000</td>\n",
       "      <td>1.000000</td>\n",
       "      <td>1.000000</td>\n",
       "      <td>1.000000</td>\n",
       "      <td>1.000000</td>\n",
       "      <td>...</td>\n",
       "      <td>1.000000</td>\n",
       "      <td>1.000000</td>\n",
       "      <td>1.000000</td>\n",
       "      <td>1.000000</td>\n",
       "      <td>1.000000</td>\n",
       "      <td>1.000000</td>\n",
       "      <td>1.000000</td>\n",
       "      <td>1.000000</td>\n",
       "      <td>25691.160000</td>\n",
       "      <td>1.000000</td>\n",
       "    </tr>\n",
       "  </tbody>\n",
       "</table>\n",
       "<p>8 rows × 31 columns</p>\n",
       "</div>"
      ],
      "text/plain": [
       "                Time             V1             V2             V3  \\\n",
       "count  284807.000000  284807.000000  284807.000000  284807.000000   \n",
       "mean    94813.859575       0.958294       0.767258       0.837414   \n",
       "std     47488.145955       0.033276       0.017424       0.026275   \n",
       "min         0.000000       0.000000       0.000000       0.000000   \n",
       "25%     54201.500000       0.942658       0.760943       0.821985   \n",
       "50%     84692.000000       0.958601       0.767949       0.840530   \n",
       "75%    139320.500000       0.980645       0.775739       0.855213   \n",
       "max    172792.000000       1.000000       1.000000       1.000000   \n",
       "\n",
       "                  V4             V5             V6             V7  \\\n",
       "count  284807.000000  284807.000000  284807.000000  284807.000000   \n",
       "mean        0.251930       0.765716       0.263020       0.265356   \n",
       "std         0.062764       0.009292       0.013395       0.007537   \n",
       "min         0.000000       0.000000       0.000000       0.000000   \n",
       "25%         0.214311       0.761060       0.255295       0.261980   \n",
       "50%         0.251050       0.765351       0.260263       0.265600   \n",
       "75%         0.284882       0.769836       0.267027       0.268831   \n",
       "max         1.000000       1.000000       1.000000       1.000000   \n",
       "\n",
       "                  V8             V9  ...            V21            V22  \\\n",
       "count  284807.000000  284807.000000  ...  284807.000000  284807.000000   \n",
       "mean        0.785385       0.462780  ...       0.561480       0.510031   \n",
       "std         0.012812       0.037846  ...       0.011841       0.033854   \n",
       "min         0.000000       0.000000  ...       0.000000       0.000000   \n",
       "25%         0.783148       0.440626  ...       0.557798       0.484730   \n",
       "50%         0.785625       0.461008  ...       0.561005       0.510347   \n",
       "75%         0.788897       0.483350  ...       0.564484       0.534688   \n",
       "max         1.000000       1.000000  ...       1.000000       1.000000   \n",
       "\n",
       "                 V23            V24            V25            V26  \\\n",
       "count  284807.000000  284807.000000  284807.000000  284807.000000   \n",
       "mean        0.665434       0.382234       0.577907       0.425448   \n",
       "std         0.009274       0.081611       0.029261       0.078771   \n",
       "min         0.000000       0.000000       0.000000       0.000000   \n",
       "25%         0.663030       0.334454       0.560104       0.372036   \n",
       "50%         0.665267       0.387756       0.578838       0.416932   \n",
       "75%         0.667626       0.441460       0.597593       0.464807   \n",
       "max         1.000000       1.000000       1.000000       1.000000   \n",
       "\n",
       "                 V27            V28         Amount          Class  \n",
       "count  284807.000000  284807.000000  284807.000000  284807.000000  \n",
       "mean        0.416511       0.313124      88.349619       0.001727  \n",
       "std         0.007450       0.006698     250.120109       0.041527  \n",
       "min         0.000000       0.000000       0.000000       0.000000  \n",
       "25%         0.415203       0.312049       5.600000       0.000000  \n",
       "50%         0.416536       0.313352      22.000000       0.000000  \n",
       "75%         0.418191       0.314712      77.165000       0.000000  \n",
       "max         1.000000       1.000000   25691.160000       1.000000  \n",
       "\n",
       "[8 rows x 31 columns]"
      ]
     },
     "execution_count": 5,
     "metadata": {},
     "output_type": "execute_result"
    }
   ],
   "source": [
    "credit_card_data.describe()"
   ]
  },
  {
   "cell_type": "code",
   "execution_count": 6,
   "id": "eab2ceaa-2922-4482-85da-43540758b1f4",
   "metadata": {},
   "outputs": [],
   "source": [
    "target_column = \"Class\"\n",
    "\n",
    "data, target = credit_card_data.drop(target_column, axis=1), credit_card_data[target_column]"
   ]
  },
  {
   "cell_type": "markdown",
   "id": "2b94ae5c-584c-4919-a2c7-b7679267e895",
   "metadata": {},
   "source": [
    "We'll apply the stratified mode of sampling the dataset to ensure we maintain the balance of train and test set even while we split the data. The train set though would make more sense as 3/4 of the first split and 8/10 of the second split. "
   ]
  },
  {
   "cell_type": "code",
   "execution_count": 7,
   "id": "96298863-9398-4190-b6f5-5ec33544c870",
   "metadata": {},
   "outputs": [
    {
     "data": {
      "text/plain": [
       "((170884, 30), (71202, 30), (42721, 30), (170884,), (71202,), (42721,))"
      ]
     },
     "execution_count": 7,
     "metadata": {},
     "output_type": "execute_result"
    }
   ],
   "source": [
    "X_train, X_test, y_train, y_test = train_test_split(\n",
    "    data, target, train_size=3/4, \n",
    "    stratify=target, random_state=42\n",
    ")\n",
    "\n",
    "X_train, X_val, y_train, y_val = train_test_split(\n",
    "    X_train, y_train, train_size=8/10, \n",
    "    stratify=y_train, random_state=42\n",
    ")\n",
    "\n",
    "del credit_card_data\n",
    "\n",
    "X_train.shape, X_test.shape, X_val.shape, y_train.shape, y_test.shape, y_val.shape"
   ]
  },
  {
   "cell_type": "code",
   "execution_count": 8,
   "id": "e6db30ed-7123-474c-8312-4264efafaf5e",
   "metadata": {},
   "outputs": [],
   "source": [
    "# Data Visualization Tools\n",
    "import seaborn as sns\n",
    "import matplotlib.pyplot as plt"
   ]
  },
  {
   "cell_type": "code",
   "execution_count": 9,
   "id": "229e78a6-f2e8-4804-8acb-8c545381b43b",
   "metadata": {},
   "outputs": [
    {
     "data": {
      "image/png": "[encoded data removed]",
      "text/plain": [
       "<Figure size 1200x500 with 3 Axes>"
      ]
     },
     "metadata": {},
     "output_type": "display_data"
    }
   ],
   "source": [
    "fig, (ax1, ax2, ax3) = plt.subplots(1, 3, figsize=(12, 5))\n",
    "\n",
    "y_train.value_counts(normalize=True).plot(kind='bar', ax=ax1)\n",
    "y_test.value_counts(normalize=True).plot(kind='bar', ax=ax2)\n",
    "y_val.value_counts(normalize=True).plot(kind='bar', ax=ax3)\n",
    "\n",
    "fig.suptitle(\"Checking data balance across split\", fontsize=15)\n",
    "plt.plot();"
   ]
  },
  {
   "cell_type": "markdown",
   "id": "86ade449-a9fc-4545-ae95-cabcb18ee24e",
   "metadata": {},
   "source": [
    "We've successfully splitted the dataset into 3 sets... a training set, test and validation set. Here's our reason for [cross-validation](https://www.geeksforgeeks.org/cross-validation-machine-learning/).\n",
    "\n",
    "So far we have class balance across the splits. Now to apply the SMOTE [technique](Understanding%20the%20dataset.ipynb#Conclusion) on the train data."
   ]
  },
  {
   "cell_type": "code",
   "execution_count": 10,
   "id": "647bd762-32da-44d3-869a-54b766fbc554",
   "metadata": {},
   "outputs": [
    {
     "data": {
      "text/plain": [
       "((341178, 30), (341178,))"
      ]
     },
     "execution_count": 10,
     "metadata": {},
     "output_type": "execute_result"
    }
   ],
   "source": [
    "over_sample = SMOTE()\n",
    "\n",
    "X_train, y_train = over_sample.fit_resample(X_train, y_train)\n",
    "\n",
    "X_train.shape, y_train.shape"
   ]
  },
  {
   "cell_type": "markdown",
   "id": "8c063bff-8991-4488-b5b1-8e2c3efd3f00",
   "metadata": {},
   "source": [
    "Training data now increased from 170884 to 341178, that's roughly twice the original data.\n",
    "\n",
    "Let's preview the class balance this time."
   ]
  },
  {
   "cell_type": "code",
   "execution_count": 11,
   "id": "7f1303a9-b0a7-4200-807b-e70d6b7c7567",
   "metadata": {},
   "outputs": [
    {
     "data": {
      "image/png": "[encoded data removed]",
      "text/plain": [
       "<Figure size 640x480 with 1 Axes>"
      ]
     },
     "metadata": {},
     "output_type": "display_data"
    }
   ],
   "source": [
    "y_train.value_counts(normalize=True).plot(kind='bar');"
   ]
  },
  {
   "cell_type": "markdown",
   "id": "37f2fbf8-9c31-4ede-b22e-81d9906fe33f",
   "metadata": {},
   "source": [
    "There's now a much equal balance between both classes. [Explanation on the SMOTE sampling technique](https://imbalanced-learn.org/stable/over_sampling.html)"
   ]
  },
  {
   "cell_type": "markdown",
   "id": "fcb6687c-1c9d-4e7f-8e2e-db4c99c3ea23",
   "metadata": {},
   "source": [
    "### Scaling the features\n",
    "\n",
    "From our notebook 📓 on [understanding the dataset](Understanding%20the%20dataset.ipynb), we discovered the features `Amount` and `Time` are the major features to be scaled, the features `V1` to `V28` appears to have been properly scaled.\n",
    "\n",
    "For this we'll apply the [Robust Scaler](https://scikit-learn.org/stable/modules/generated/sklearn.preprocessing.RobustScaler.html) for the features `Amount` and `Time`."
   ]
  },
  {
   "cell_type": "code",
   "execution_count": 12,
   "id": "3df0f457-10c8-4f3e-8f74-1133aff77a31",
   "metadata": {},
   "outputs": [],
   "source": [
    "from sklearn.preprocessing import RobustScaler"
   ]
  },
  {
   "cell_type": "code",
   "execution_count": 13,
   "id": "870b116f-67ad-44ac-abcd-1b3f616b9117",
   "metadata": {},
   "outputs": [
    {
     "data": {
      "text/html": [
       "<div>\n",
       "<style scoped>\n",
       "    .dataframe tbody tr th:only-of-type {\n",
       "        vertical-align: middle;\n",
       "    }\n",
       "\n",
       "    .dataframe tbody tr th {\n",
       "        vertical-align: top;\n",
       "    }\n",
       "\n",
       "    .dataframe thead th {\n",
       "        text-align: right;\n",
       "    }\n",
       "</style>\n",
       "<table border=\"1\" class=\"dataframe\">\n",
       "  <thead>\n",
       "    <tr style=\"text-align: right;\">\n",
       "      <th></th>\n",
       "      <th>Amount</th>\n",
       "      <th>Time</th>\n",
       "    </tr>\n",
       "  </thead>\n",
       "  <tbody>\n",
       "    <tr>\n",
       "      <th>count</th>\n",
       "      <td>341178.000000</td>\n",
       "      <td>341178.000000</td>\n",
       "    </tr>\n",
       "    <tr>\n",
       "      <th>mean</th>\n",
       "      <td>0.756794</td>\n",
       "      <td>0.088252</td>\n",
       "    </tr>\n",
       "    <tr>\n",
       "      <th>std</th>\n",
       "      <td>2.374132</td>\n",
       "      <td>0.556151</td>\n",
       "    </tr>\n",
       "    <tr>\n",
       "      <th>min</th>\n",
       "      <td>-0.271445</td>\n",
       "      <td>-0.920975</td>\n",
       "    </tr>\n",
       "    <tr>\n",
       "      <th>25%</th>\n",
       "      <td>-0.231940</td>\n",
       "      <td>-0.384881</td>\n",
       "    </tr>\n",
       "    <tr>\n",
       "      <th>50%</th>\n",
       "      <td>0.000000</td>\n",
       "      <td>0.000000</td>\n",
       "    </tr>\n",
       "    <tr>\n",
       "      <th>75%</th>\n",
       "      <td>0.768060</td>\n",
       "      <td>0.615119</td>\n",
       "    </tr>\n",
       "    <tr>\n",
       "      <th>max</th>\n",
       "      <td>266.816194</td>\n",
       "      <td>1.067567</td>\n",
       "    </tr>\n",
       "  </tbody>\n",
       "</table>\n",
       "</div>"
      ],
      "text/plain": [
       "              Amount           Time\n",
       "count  341178.000000  341178.000000\n",
       "mean        0.756794       0.088252\n",
       "std         2.374132       0.556151\n",
       "min        -0.271445      -0.920975\n",
       "25%        -0.231940      -0.384881\n",
       "50%         0.000000       0.000000\n",
       "75%         0.768060       0.615119\n",
       "max       266.816194       1.067567"
      ]
     },
     "execution_count": 13,
     "metadata": {},
     "output_type": "execute_result"
    }
   ],
   "source": [
    "rs = RobustScaler()\n",
    "\n",
    "X_train['Amount'] = rs.fit_transform(X_train['Amount'].values.reshape(-1,1))\n",
    "X_train['Time'] = rs.fit_transform(X_train['Time'].values.reshape(-1,1))\n",
    "\n",
    "X_train[['Amount', 'Time']].describe()"
   ]
  },
  {
   "cell_type": "markdown",
   "id": "8576c0bb-7a47-493e-a46a-9237e17b7432",
   "metadata": {},
   "source": [
    "### Training the Model\n",
    "\n",
    "We can now proceed to training and evaluating our model.\n",
    "\n",
    "We'll start by applying a `cross_val_score` to see how our model performs on a 5-folds of [cross-validation](https://www.geeksforgeeks.org/cross-validation-machine-learning/) using the `RandomForestClassifier`."
   ]
  },
  {
   "cell_type": "code",
   "execution_count": 14,
   "id": "24c4664d-1ab0-4dee-87d5-d737f7ba2f67",
   "metadata": {},
   "outputs": [],
   "source": [
    "from sklearn.ensemble import RandomForestClassifier\n",
    "from sklearn.model_selection import cross_val_score"
   ]
  },
  {
   "cell_type": "code",
   "execution_count": 15,
   "id": "dbbd326a-0ca2-472e-a3ed-629ab26a7d8e",
   "metadata": {},
   "outputs": [
    {
     "data": {
      "text/plain": [
       "array([0.99988276, 0.99988276, 0.99983879, 0.99989741, 0.99995603])"
      ]
     },
     "execution_count": 15,
     "metadata": {},
     "output_type": "execute_result"
    }
   ],
   "source": [
    "scores = cross_val_score(\n",
    "    RandomForestClassifier(), X_train, y_train,\n",
    "    cv=5, scoring='accuracy', n_jobs=-1\n",
    ")\n",
    "scores"
   ]
  },
  {
   "cell_type": "markdown",
   "id": "57d6dfab-0d7f-408a-b695-25054a91d775",
   "metadata": {},
   "source": [
    "accuracy_score model without any form of fine-tuning has an accuracy of 99% across each fold, without fine-tuning.\n",
    "\n",
    "Now for the moment of truth, let's train and see the result on the validation set.\n",
    "\n",
    "Testing on the validation set implies testing on data the model has not seen before, same with the testing set."
   ]
  },
  {
   "cell_type": "code",
   "execution_count": 16,
   "id": "1940b19e-437c-40d8-abac-95e0743c0238",
   "metadata": {},
   "outputs": [],
   "source": [
    "test_model = RandomForestClassifier()\n",
    "\n",
    "test_model.fit(X_train, y_train)\n",
    "predictions = test_model.predict(X_val)"
   ]
  },
  {
   "cell_type": "code",
   "execution_count": 17,
   "id": "c627d271-e7ea-4939-b920-d67182a919fc",
   "metadata": {},
   "outputs": [],
   "source": [
    "from sklearn.metrics import accuracy_score"
   ]
  },
  {
   "cell_type": "code",
   "execution_count": 18,
   "id": "3f591edb-f3ba-4de7-8b26-094668a2754a",
   "metadata": {},
   "outputs": [
    {
     "data": {
      "text/plain": [
       "0.9994382153975796"
      ]
     },
     "execution_count": 18,
     "metadata": {},
     "output_type": "execute_result"
    }
   ],
   "source": [
    "accuracy_score(y_val, predictions)"
   ]
  },
  {
   "cell_type": "markdown",
   "id": "5d2e9042-25a0-4e3b-ae7c-6ce2d554479b",
   "metadata": {},
   "source": [
    "We got an accuracy of roughly 99.94%! This is good!!! 😌 \n",
    "\n",
    "It implies our model can properly distinguish between a fraudulent and non-fraudulent card transaction with an accuracy of 99.94%.\n",
    "\n",
    "we can now create our final model, which would combine both the training and validation set to train a model that can adequately predict between fraudulent and non-fraudulent card transactions."
   ]
  },
  {
   "cell_type": "code",
   "execution_count": 19,
   "id": "ae515dfd-dbf7-4b17-8d57-bf25497b2546",
   "metadata": {},
   "outputs": [
    {
     "data": {
      "text/plain": [
       "((383899, 30), (383899,))"
      ]
     },
     "execution_count": 19,
     "metadata": {},
     "output_type": "execute_result"
    }
   ],
   "source": [
    "X_train = pd.concat((X_train, X_val))\n",
    "y_train = pd.concat((y_train, y_val))\n",
    "\n",
    "X_train.shape, y_train.shape"
   ]
  },
  {
   "cell_type": "code",
   "execution_count": 20,
   "id": "b173ae2f-fdf8-463d-b838-61578796d6d3",
   "metadata": {},
   "outputs": [],
   "source": [
    "final_model = RandomForestClassifier()\n",
    "\n",
    "final_model.fit(X_train, y_train)\n",
    "predictions = final_model.predict(X_test)"
   ]
  },
  {
   "cell_type": "code",
   "execution_count": 21,
   "id": "3a523771-7a3a-4be0-bd57-cb64fde78bf3",
   "metadata": {},
   "outputs": [
    {
     "data": {
      "text/plain": [
       "0.9993960843796522"
      ]
     },
     "execution_count": 21,
     "metadata": {},
     "output_type": "execute_result"
    }
   ],
   "source": [
    "accuracy_score(y_test, predictions)"
   ]
  },
  {
   "cell_type": "markdown",
   "id": "8aa4c0d0-e352-4da6-87fa-b26a2c51aa4b",
   "metadata": {},
   "source": [
    "Our final model has an accuracy of 99.94% on the test set and can now be serialized and used to generalize to new inputs."
   ]
  },
  {
   "cell_type": "code",
   "execution_count": 22,
   "id": "544a7ee0-c5dc-4b81-83ae-226ef1d57a10",
   "metadata": {},
   "outputs": [],
   "source": [
    "import joblib"
   ]
  },
  {
   "cell_type": "code",
   "execution_count": 23,
   "id": "61ca0c4a-bb44-44f1-9fbd-b4fd91d4b188",
   "metadata": {},
   "outputs": [],
   "source": [
    "joblib.dump(final_model, open('creditcardmodel.z', 'wb'))"
   ]
  },
  {
   "cell_type": "markdown",
   "id": "77ee64d0-a017-4e6a-8a7b-f75a79feac05",
   "metadata": {},
   "source": [
    "### Conclusion\n",
    "\n",
    "Our model performed absolutely well, with the accuracy of 99.94% at the final model.\n",
    "\n",
    "**Important Note 📝**: only the training set of the data had the SMOTE technique for over sampling applied to it... this goes to show that the validation and test set still had the ratio between the class 0 (for non-fradulent activities) and 1 (for fradulent activities) as 99.83% to 00.17% respectively.\n",
    "\n",
    "This proves the model was able to properly spot the difference between non-fradulent and fradulent credit card transactions, irrespective of their imbalance."
   ]
  },
  {
   "cell_type": "code",
   "execution_count": null,
   "id": "18b3eafb-fac5-407b-8581-baca1194511c",
   "metadata": {},
   "outputs": [],
   "source": []
  }
 ],
 "metadata": {
  "kernelspec": {
   "display_name": "Python 3 (ipykernel)",
   "language": "python",
   "name": "python3"
  },
  "language_info": {
   "codemirror_mode": {
    "name": "ipython",
    "version": 3
   },
   "file_extension": ".py",
   "mimetype": "text/x-python",
   "name": "python",
   "nbconvert_exporter": "python",
   "pygments_lexer": "ipython3",
   "version": "3.10.8"
  }
 },
 "nbformat": 4,
 "nbformat_minor": 5
}
