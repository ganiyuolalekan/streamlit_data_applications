{
 "cells": [
  {
   "cell_type": "markdown",
   "id": "dede0086-a68a-4b9b-a1fc-a120a8c25ed9",
   "metadata": {},
   "source": [
    "# Image Extraction\n",
    "\n",
    "In order to evaluate our models and test it's accuracy and visualize them to confirm on the streamlit application, we'll have to extract some from the [Hand Writing Digit Dataset](https://www.kaggle.com/competitions/digit-recognizer). This notebook is dedicated to that purpose.\n",
    "\n",
    "Let's start by loading the dataset and all that will be necessary for extracting the images"
   ]
  },
  {
   "cell_type": "code",
   "execution_count": 1,
   "id": "bb659a60-5bb7-4143-aa22-fd99f61bb5e1",
   "metadata": {},
   "outputs": [],
   "source": [
    "import numpy as np\n",
    "import pandas as pd\n",
    "import seaborn as sns\n",
    "import matplotlib.pyplot as plt\n",
    "\n",
    "from tensorflow.keras.datasets import mnist"
   ]
  },
  {
   "cell_type": "markdown",
   "id": "c5078bc2-6baa-463d-b98a-dccbcd0b9d7f",
   "metadata": {},
   "source": [
    "We'll be using the `testX` because it contains images the trained model hasn't seen before... this ensures the model isn't cheating."
   ]
  },
  {
   "cell_type": "code",
   "execution_count": 2,
   "id": "c9737ee7-509f-427a-8cca-084269440870",
   "metadata": {},
   "outputs": [],
   "source": [
    "_, (testX, _) = mnist.load_data()"
   ]
  },
  {
   "cell_type": "code",
   "execution_count": 3,
   "id": "b0c0b6f8-9223-40e4-ab3f-111419989edd",
   "metadata": {},
   "outputs": [
    {
     "data": {
      "image/png": "[encoded data removed]",
      "text/plain": [
       "<Figure size 640x480 with 1 Axes>"
      ]
     },
     "metadata": {},
     "output_type": "display_data"
    }
   ],
   "source": [
    "plt.gray()\n",
    "for i in range(25):\n",
    "    plt.imshow(testX[i])\n",
    "    plt.axis('off')\n",
    "    plt.savefig(f'Figure-{i}.png', dpi=100, bbox_inches='tight')\n",
    "plt.show();"
   ]
  },
  {
   "cell_type": "markdown",
   "id": "a27b3482-1528-464d-b836-4defbf42651a",
   "metadata": {},
   "source": [
    "YEP!!! That concludes the figure extraction... next would be to test reading the image and seeing if it's output is accurate and precise."
   ]
  },
  {
   "cell_type": "code",
   "execution_count": 4,
   "id": "e89b78a5-8f8c-4637-8130-416ea66aa3d5",
   "metadata": {},
   "outputs": [],
   "source": [
    "import cv2"
   ]
  },
  {
   "cell_type": "code",
   "execution_count": 5,
   "id": "b407e060-8298-41cd-9730-36ebf1f8e866",
   "metadata": {},
   "outputs": [
    {
     "data": {
      "image/png": "[encoded data removed]",
      "text/plain": [
       "<Figure size 640x480 with 1 Axes>"
      ]
     },
     "metadata": {},
     "output_type": "display_data"
    }
   ],
   "source": [
    "img = cv2.imread('Figure-0.png', 0)\n",
    "\n",
    "plt.axis('off')\n",
    "plt.imshow(img);"
   ]
  },
  {
   "cell_type": "code",
   "execution_count": 6,
   "id": "d367060a-e0ae-4012-9dad-45f6372b4bc3",
   "metadata": {},
   "outputs": [
    {
     "data": {
      "text/plain": [
       "(389, 389)"
      ]
     },
     "execution_count": 6,
     "metadata": {},
     "output_type": "execute_result"
    }
   ],
   "source": [
    "img.shape"
   ]
  },
  {
   "cell_type": "code",
   "execution_count": 7,
   "id": "1e6230a6-df61-49c9-86da-921c040519ce",
   "metadata": {},
   "outputs": [],
   "source": [
    "img = cv2.resize(img, (28, 28))"
   ]
  },
  {
   "cell_type": "code",
   "execution_count": 8,
   "id": "5dd58aa4-ec2b-4a25-8625-23dd6b45186a",
   "metadata": {},
   "outputs": [
    {
     "data": {
      "text/plain": [
       "(28, 28)"
      ]
     },
     "execution_count": 8,
     "metadata": {},
     "output_type": "execute_result"
    }
   ],
   "source": [
    "img.shape"
   ]
  },
  {
   "cell_type": "code",
   "execution_count": 9,
   "id": "ab72f5ba-d0ff-45bc-b708-e64cbebb4bfe",
   "metadata": {},
   "outputs": [
    {
     "data": {
      "image/png": "[encoded data removed]",
      "text/plain": [
       "<Figure size 640x480 with 1 Axes>"
      ]
     },
     "metadata": {},
     "output_type": "display_data"
    }
   ],
   "source": [
    "plt.axis('off')\n",
    "plt.imshow(img);"
   ]
  },
  {
   "cell_type": "markdown",
   "id": "a9b89057-28a5-4768-afaa-a5e9db0ef6b6",
   "metadata": {},
   "source": [
    "So everything works properly, and we can proceed to using the application."
   ]
  },
  {
   "cell_type": "code",
   "execution_count": null,
   "id": "509fd5a0-4a8d-452c-b769-1961fbf98564",
   "metadata": {},
   "outputs": [],
   "source": []
  }
 ],
 "metadata": {
  "kernelspec": {
   "display_name": "Python 3 (ipykernel)",
   "language": "python",
   "name": "python3"
  },
  "language_info": {
   "codemirror_mode": {
    "name": "ipython",
    "version": 3
   },
   "file_extension": ".py",
   "mimetype": "text/x-python",
   "name": "python",
   "nbconvert_exporter": "python",
   "pygments_lexer": "ipython3",
   "version": "3.10.8"
  }
 },
 "nbformat": 4,
 "nbformat_minor": 5
}
